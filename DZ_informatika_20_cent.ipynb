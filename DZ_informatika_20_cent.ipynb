{
  "nbformat": 4,
  "nbformat_minor": 0,
  "metadata": {
    "colab": {
      "provenance": [],
      "authorship_tag": "ABX9TyM32QDCzcAWd+cJR3ef3Yk5",
      "include_colab_link": true
    },
    "kernelspec": {
      "name": "python3",
      "display_name": "Python 3"
    },
    "language_info": {
      "name": "python"
    }
  },
  "cells": [
    {
      "cell_type": "markdown",
      "metadata": {
        "id": "view-in-github",
        "colab_type": "text"
      },
      "source": [
        "<a href=\"https://colab.research.google.com/github/Kanoriian/iskustvenii_intelegent/blob/main/DZ_informatika_20_cent.ipynb\" target=\"_parent\"><img src=\"https://colab.research.google.com/assets/colab-badge.svg\" alt=\"Open In Colab\"/></a>"
      ]
    },
    {
      "cell_type": "code",
      "source": [
        "#Степень\n",
        "def power (a, n):\n",
        "  while n > 0:\n",
        "    a = a * a\n",
        "    n = n - 1\n",
        "  return a\n",
        "\n",
        "a = int(input())\n",
        "n = int(input())\n",
        "\n",
        "s = power(a, n)\n",
        "print(s)"
      ],
      "metadata": {
        "id": "DxOJBMdpLEd0"
      },
      "execution_count": null,
      "outputs": []
    },
    {
      "cell_type": "code",
      "source": [
        "#Исключающее ИЛИ\n",
        "def Xor (a, b):\n",
        "  if a and b:\n",
        "    return False\n",
        "  if a or b:\n",
        "    return True\n",
        "  if not a and not b:\n",
        "    return False\n",
        "\n",
        "a = int(input())\n",
        "b = int(input())\n",
        "print(Xor(a, b))"
      ],
      "metadata": {
        "id": "sY1W_7fdQgTR"
      },
      "execution_count": null,
      "outputs": []
    },
    {
      "cell_type": "code",
      "source": [
        "#Голосование\n",
        "def Election(x, y, z):\n",
        "  if x and y:\n",
        "    return True\n",
        "  if x and z:\n",
        "    return True\n",
        "  if y and z:\n",
        "    return True\n",
        "  return False\n",
        "\n",
        "x = int(input())\n",
        "y = int(input())\n",
        "z = int(input())\n",
        "print(Election(x, y, z))"
      ],
      "metadata": {
        "id": "uSM88wIzzgPE"
      },
      "execution_count": null,
      "outputs": []
    },
    {
      "cell_type": "code",
      "source": [
        "#Проверка на простоту\n",
        "def prime (n):\n",
        "  if n < 10:\n",
        "    print(\"prime\")\n",
        "  else:\n",
        "    print(\"composite\")\n",
        "\n",
        "n = int(input())\n",
        "prime(n)"
      ],
      "metadata": {
        "id": "J3bKil1c2EwN"
      },
      "execution_count": null,
      "outputs": []
    },
    {
      "cell_type": "code",
      "source": [],
      "metadata": {
        "id": "uTFHOc5L4Tz5"
      },
      "execution_count": null,
      "outputs": []
    }
  ]
}