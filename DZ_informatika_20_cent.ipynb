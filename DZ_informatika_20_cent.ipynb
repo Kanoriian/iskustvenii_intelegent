{
  "nbformat": 4,
  "nbformat_minor": 0,
  "metadata": {
    "colab": {
      "provenance": [],
      "toc_visible": true,
      "include_colab_link": true
    },
    "kernelspec": {
      "name": "python3",
      "display_name": "Python 3"
    },
    "language_info": {
      "name": "python"
    }
  },
  "cells": [
    {
      "cell_type": "markdown",
      "metadata": {
        "id": "view-in-github",
        "colab_type": "text"
      },
      "source": [
        "<a href=\"https://colab.research.google.com/github/Kanoriian/iskustvenii_intelegent/blob/main/DZ_informatika_20_cent.ipynb\" target=\"_parent\"><img src=\"https://colab.research.google.com/assets/colab-badge.svg\" alt=\"Open In Colab\"/></a>"
      ]
    },
    {
      "cell_type": "code",
      "source": [
        "#Степень\n",
        "def power (a, n):\n",
        "    s = 1.0\n",
        "    if n >= 0:\n",
        "        while n > 0:\n",
        "            s = s * a\n",
        "            n = n - 1\n",
        "        return s\n",
        "    else:\n",
        "        n = abs(n)\n",
        "        a = power(a, n)\n",
        "        s = 1 / a\n",
        "        return s\n",
        "\n",
        "a, n = map(float, input().split())\n",
        "\n",
        "s = power(a, n)\n",
        "print(s)\n"
      ],
      "metadata": {
        "id": "DxOJBMdpLEd0",
        "outputId": "3d803fb7-afda-4314-f7d8-ed6bc459931f",
        "colab": {
          "base_uri": "https://localhost:8080/"
        }
      },
      "execution_count": 3,
      "outputs": [
        {
          "output_type": "stream",
          "name": "stdout",
          "text": [
            "2 4\n",
            "16\n"
          ]
        }
      ]
    },
    {
      "cell_type": "code",
      "source": [
        "#Исключающее ИЛИ\n",
        "def xor(x, y):\n",
        "  if (x == 1 and y == 1) or (x == 0 and y == 0):\n",
        "    return 0\n",
        "  if (x == 1 and y == 0) or (x == 0 and y == 1):\n",
        "    return 1\n",
        "\n",
        "x, y = map(bool, input().split())\n",
        "print(xor(x, y))\n"
      ],
      "metadata": {
        "id": "sY1W_7fdQgTR",
        "outputId": "30d2f04c-7b1e-453d-bf55-5ddbc96d321d",
        "colab": {
          "base_uri": "https://localhost:8080/"
        }
      },
      "execution_count": 2,
      "outputs": [
        {
          "output_type": "stream",
          "name": "stdout",
          "text": [
            "1\n",
            "0\n",
            "True\n"
          ]
        }
      ]
    },
    {
      "cell_type": "code",
      "source": [
        "#Голосование\n",
        "def Election(x, y, z):\n",
        "  if x and y:\n",
        "    return True\n",
        "  if x and z:\n",
        "    return True\n",
        "  if y and z:\n",
        "    return True\n",
        "  return False\n",
        "\n",
        "x, y, z = map(bool, input().split())\n",
        "print(Election(x, y, z))"
      ],
      "metadata": {
        "id": "uSM88wIzzgPE",
        "outputId": "e7eed867-cca0-4840-aa4d-18983b9c0e76",
        "colab": {
          "base_uri": "https://localhost:8080/"
        }
      },
      "execution_count": 4,
      "outputs": [
        {
          "output_type": "stream",
          "name": "stdout",
          "text": [
            "1\n",
            "1\n",
            "0\n",
            "True\n"
          ]
        }
      ]
    },
    {
      "cell_type": "code",
      "source": [
        "#Проверка на простоту\n",
        "def prime (n):\n",
        "  if n < 10:\n",
        "    print(\"prime\")\n",
        "  else:\n",
        "    print(\"composite\")\n",
        "\n",
        "n = int(input())\n",
        "prime(n)"
      ],
      "metadata": {
        "id": "J3bKil1c2EwN",
        "outputId": "67fcacc0-f1ae-4437-e757-c695183ca494",
        "colab": {
          "base_uri": "https://localhost:8080/"
        }
      },
      "execution_count": 5,
      "outputs": [
        {
          "output_type": "stream",
          "name": "stdout",
          "text": [
            "9\n",
            "prime\n"
          ]
        }
      ]
    },
    {
      "cell_type": "code",
      "source": [
        "file = open(\"17-1.txt\")\n",
        "sl = list()\n",
        "for s in file:\n",
        "    sl.append(int(s))\n",
        "kol = 0\n",
        "maxi = -10000\n",
        "for i in range(len(sl)-1):\n",
        "    if (sl[i] % 9 == 0 and sl[i+1] % 9 != 0 and abs(sl[i+1]) % 8 == 3)or\\\n",
        "       (sl[i + 1] % 9 == 0 and sl[i] % 9 != 0 and abs(sl[i]) % 8 == 3):\n",
        "        kol = kol + 1\n",
        "        maxi = max(maxi, sl[i], sl[i + 1])\n",
        "print(kol, maxi)"
      ],
      "metadata": {
        "id": "uTFHOc5L4Tz5"
      },
      "execution_count": null,
      "outputs": []
    }
  ]
}