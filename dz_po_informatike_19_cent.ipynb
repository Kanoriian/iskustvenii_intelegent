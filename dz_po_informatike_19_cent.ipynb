{
  "nbformat": 4,
  "nbformat_minor": 0,
  "metadata": {
    "colab": {
      "provenance": [],
      "authorship_tag": "ABX9TyO7vP9evkOQSmGXbb2Dxx1W",
      "include_colab_link": true
    },
    "kernelspec": {
      "name": "python3",
      "display_name": "Python 3"
    },
    "language_info": {
      "name": "python"
    }
  },
  "cells": [
    {
      "cell_type": "markdown",
      "metadata": {
        "id": "view-in-github",
        "colab_type": "text"
      },
      "source": [
        "<a href=\"https://colab.research.google.com/github/Kanoriian/iskustvenii_intelegent/blob/main/dz_po_informatike_19_cent.ipynb\" target=\"_parent\"><img src=\"https://colab.research.google.com/assets/colab-badge.svg\" alt=\"Open In Colab\"/></a>"
      ]
    },
    {
      "cell_type": "code",
      "execution_count": null,
      "metadata": {
        "id": "mpk4B1BYf6oA"
      },
      "outputs": [],
      "source": [
        "for i in range(130, 256):\n",
        "  d =bin(i)[2:]\n",
        "  d = \"0\" * (8 - len(d)) + d\n",
        "\n",
        "  f = d[0] + d[1] + d[6] + d[7]\n",
        "\n",
        "  j = int(f, 2)\n",
        "  if j == 10:\n",
        "    print(f, j, i)"
      ]
    },
    {
      "cell_type": "code",
      "source": [
        "for i in range(10, 512):\n",
        "  d = bin(i)[2:]\n",
        "\n",
        "  b = 0\n",
        "  for k in range(0, len(d)):\n",
        "    b += int(d[k], 10)\n",
        "  d += str(b % 2)\n",
        "  b = 0\n",
        "  for k in range(0, len(d)):\n",
        "    b += int(d[k], 10)\n",
        "  d += str(b % 2)\n",
        "\n",
        "  print(d, int(d, 2), i)\n"
      ],
      "metadata": {
        "id": "-tKKlBG1pVyG"
      },
      "execution_count": null,
      "outputs": []
    },
    {
      "cell_type": "code",
      "source": [
        "#задача №3 - нудача; 7.9\n",
        "kolvo = 0\n",
        "for i in range(800, 901):\n",
        "  s = i % 10\n",
        "  d = i // 10 % 10\n",
        "  f = i // 100 % 10\n",
        "  minmin = min(s, d, f)\n",
        "  maxmax = max(s, d, f)\n",
        "  if s != maxmax and s != minmin:\n",
        "    maxin = s\n",
        "  elif d != maxmax and d != minmin:\n",
        "    maxin = d\n",
        "  elif f != maxmax and f != minmin:\n",
        "    maxin = f\n",
        "  a = maxmax * 10 + maxin\n",
        "  b = minmin * 10 + maxin\n",
        "  if a-b > 30:\n",
        "    kolvo+=1\n",
        "  print(a - b, kolvo)"
      ],
      "metadata": {
        "id": "FVfq_vTpz58N"
      },
      "execution_count": null,
      "outputs": []
    },
    {
      "cell_type": "code",
      "source": [
        "for i in range(1000, 10000):\n",
        "  a = i // 1000 + i // 100 % 10\n",
        "  b = i // 100 % 10 + i // 10 % 10\n",
        "  c = i // 10 % 10 + i % 10\n",
        "  maxmax = max(a, b, c)\n",
        "  if a == maxmax:\n",
        "    m = max(b, c)\n",
        "    n = min(b, c)\n",
        "    d = str(m) + str(n)\n",
        "  elif b == maxmax:\n",
        "    m = max(a, c)\n",
        "    n = min(a, c)\n",
        "    d = str(m) + str(n)\n",
        "  elif c == maxmax:\n",
        "    m = max(a, b)\n",
        "    n = min(a, b)\n",
        "    d = str(m) + str(n)\n",
        "\n",
        "  if d == \"105\":\n",
        "    print(d, i)"
      ],
      "metadata": {
        "id": "QTtGrlbt5lUH"
      },
      "execution_count": null,
      "outputs": []
    },
    {
      "cell_type": "code",
      "source": [
        "#задача №5 - нудача; 7.9\n",
        "for i in range(0, 255):\n",
        "  d = bin(i)[2::]\n",
        "  d = \"0\" * (9 - len(d)) + d[:len(d)-1:]\n",
        "\n",
        "  st = d.replace(\"1\", \"2\")\n",
        "  st = d.replace(\"0\", \"1\")\n",
        "  st = d.replace(\"2\", \"0\")\n",
        "\n",
        "  g = int(st, 2)\n",
        "  if i == g:\n",
        "    print(g, i)"
      ],
      "metadata": {
        "id": "pEktL4q48lCv"
      },
      "execution_count": null,
      "outputs": []
    }
  ]
}