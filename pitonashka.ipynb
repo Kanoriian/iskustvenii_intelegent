{
  "nbformat": 4,
  "nbformat_minor": 0,
  "metadata": {
    "colab": {
      "provenance": [],
      "authorship_tag": "ABX9TyOQrndjV/9sh2nNU8OQIC9V",
      "include_colab_link": true
    },
    "kernelspec": {
      "name": "python3",
      "display_name": "Python 3"
    },
    "language_info": {
      "name": "python"
    }
  },
  "cells": [
    {
      "cell_type": "markdown",
      "metadata": {
        "id": "view-in-github",
        "colab_type": "text"
      },
      "source": [
        "<a href=\"https://colab.research.google.com/github/Kanoriian/iskustvenii_intelegent/blob/main/pitonashka.ipynb\" target=\"_parent\"><img src=\"https://colab.research.google.com/assets/colab-badge.svg\" alt=\"Open In Colab\"/></a>"
      ]
    },
    {
      "cell_type": "code",
      "execution_count": null,
      "metadata": {
        "id": "_a40Ei9olGx7"
      },
      "outputs": [],
      "source": [
        "n = input()\n",
        "n = n.replace('x', \"??\")\n",
        "print(n)"
      ]
    },
    {
      "cell_type": "code",
      "source": [
        "#Дана строка из строчных букв английского алфавита.\n",
        "#Необходимо найти количество пар букв 'a' и 'b', таких,\n",
        "#что буква 'a' находится раньше 'b'.\n",
        "str = input()\n",
        "a = 0\n",
        "kol = 0\n",
        "for i in range(0, len(str)):\n",
        "  if str[i] == 'a':\n",
        "    a += 1\n",
        "  if str[i] == 'b' and a >= 1:\n",
        "    kol += a\n",
        "print(kol)"
      ],
      "metadata": {
        "colab": {
          "base_uri": "https://localhost:8080/"
        },
        "id": "9LUnMvdSo4zA",
        "outputId": "5d0a272f-f93b-49d2-8f54-9844d6ae36fb"
      },
      "execution_count": 13,
      "outputs": [
        {
          "output_type": "stream",
          "name": "stdout",
          "text": [
            "basdbabba\n",
            "5\n"
          ]
        }
      ]
    },
    {
      "cell_type": "code",
      "source": [
        "#поиск числа Фибоначчи\n",
        "n =  int(input())\n",
        "if n < 2:\n",
        "  print(\"1\")\n",
        "else:\n",
        "  a = [1]*2\n",
        "  for i in range(2, n):\n",
        "    a.append(a[i-1]+a[i-2])\n",
        "  print(a[-1])"
      ],
      "metadata": {
        "colab": {
          "base_uri": "https://localhost:8080/"
        },
        "id": "l_5p5y5VrFp3",
        "outputId": "7f826cdd-47b9-4345-f7f1-50688a3c4a7c"
      },
      "execution_count": 21,
      "outputs": [
        {
          "output_type": "stream",
          "name": "stdout",
          "text": [
            "5\n",
            "5\n"
          ]
        }
      ]
    }
  ]
}